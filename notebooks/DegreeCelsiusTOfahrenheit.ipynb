{
  "nbformat": 4,
  "nbformat_minor": 0,
  "metadata": {
    "colab": {
      "name": "DegreeCelsiusTOfahrenheit.ipynb",
      "provenance": [],
      "collapsed_sections": []
    },
    "kernelspec": {
      "name": "python3",
      "display_name": "Python 3"
    },
    "accelerator": "GPU"
  },
  "cells": [
    {
      "cell_type": "code",
      "metadata": {
        "id": "P1UfkBMPAsa8"
      },
      "source": [
        "import tensorflow as tf\n",
        "# tf.logging.set_verbosity(tf.logging.ERROR)\n",
        "\n",
        "import numpy as np"
      ],
      "execution_count": 2,
      "outputs": []
    },
    {
      "cell_type": "code",
      "metadata": {
        "colab": {
          "base_uri": "https://localhost:8080/"
        },
        "id": "zJ0SM8La_Uiq",
        "outputId": "c9577df9-a833-4919-a760-8f7485ccd934"
      },
      "source": [
        "celsius_q = np.array([-40,-10,0,8,15,22,38], dtype=float)\n",
        "fahrenheit_a = np.array([-40,14,32,46,59,72,100], dtype=float)\n",
        "\n",
        "for i,c in enumerate(celsius_q):\n",
        "  print(\"{} degree Celsius= {} degree Fahrenheit\".format(c, fahrenheit_a[i]))"
      ],
      "execution_count": 3,
      "outputs": [
        {
          "output_type": "stream",
          "text": [
            "-40.0 degree Celsius= -40.0 degree Fahrenheit\n",
            "-10.0 degree Celsius= 14.0 degree Fahrenheit\n",
            "0.0 degree Celsius= 32.0 degree Fahrenheit\n",
            "8.0 degree Celsius= 46.0 degree Fahrenheit\n",
            "15.0 degree Celsius= 59.0 degree Fahrenheit\n",
            "22.0 degree Celsius= 72.0 degree Fahrenheit\n",
            "38.0 degree Celsius= 100.0 degree Fahrenheit\n"
          ],
          "name": "stdout"
        }
      ]
    },
    {
      "cell_type": "code",
      "metadata": {
        "id": "1geBoZ06AX6Z"
      },
      "source": [
        "l0 = tf.keras.layers.Dense(units=1,input_shape=[1])"
      ],
      "execution_count": 4,
      "outputs": []
    },
    {
      "cell_type": "code",
      "metadata": {
        "id": "07G0FOitAnE0"
      },
      "source": [
        "model = tf.keras.Sequential([l0])"
      ],
      "execution_count": 6,
      "outputs": []
    },
    {
      "cell_type": "code",
      "metadata": {
        "id": "9MtEJoFUBNUD"
      },
      "source": [
        "model.compile(loss='mean_squared_error', optimizer=tf.keras.optimizers.Adam(0.1))"
      ],
      "execution_count": 7,
      "outputs": []
    },
    {
      "cell_type": "code",
      "metadata": {
        "colab": {
          "base_uri": "https://localhost:8080/"
        },
        "id": "4xz3l8E2B2z6",
        "outputId": "223da72f-66bd-4990-c102-b71e81e99d16"
      },
      "source": [
        "history = model.fit(celsius_q,fahrenheit_a,epochs=500,verbose=False)\n",
        "print(\"Finished training the model\")"
      ],
      "execution_count": 8,
      "outputs": [
        {
          "output_type": "stream",
          "text": [
            "Finished training the model\n"
          ],
          "name": "stdout"
        }
      ]
    },
    {
      "cell_type": "code",
      "metadata": {
        "colab": {
          "base_uri": "https://localhost:8080/",
          "height": 296
        },
        "id": "Iw9hEPmkCYWU",
        "outputId": "ca69c37d-8cca-4a29-b64a-8f18a9a84e52"
      },
      "source": [
        "import matplotlib.pyplot as plt\n",
        "plt.xlabel('Epoch Number')\n",
        "plt.ylabel('Loss Magnitude')\n",
        "plt.plot(history.history['loss'])\n"
      ],
      "execution_count": 9,
      "outputs": [
        {
          "output_type": "execute_result",
          "data": {
            "text/plain": [
              "[<matplotlib.lines.Line2D at 0x7f6a0038d850>]"
            ]
          },
          "metadata": {
            "tags": []
          },
          "execution_count": 9
        },
        {
          "output_type": "display_data",
          "data": {
            "image/png": "[encoded data removed]",
            "text/plain": [
              "<Figure size 432x288 with 1 Axes>"
            ]
          },
          "metadata": {
            "tags": [],
            "needs_background": "light"
          }
        }
      ]
    },
    {
      "cell_type": "code",
      "metadata": {
        "colab": {
          "base_uri": "https://localhost:8080/"
        },
        "id": "xgjHvNKDDFbk",
        "outputId": "04537915-3b97-4d6c-9206-cc126f193f4e"
      },
      "source": [
        "print(model.predict([100.0]))"
      ],
      "execution_count": 10,
      "outputs": [
        {
          "output_type": "stream",
          "text": [
            "[[211.3378]]\n"
          ],
          "name": "stdout"
        }
      ]
    },
    {
      "cell_type": "code",
      "metadata": {
        "colab": {
          "base_uri": "https://localhost:8080/"
        },
        "id": "gXjy0hX9Damp",
        "outputId": "4b64d60a-28b5-44d4-cce9-af05ef30f732"
      },
      "source": [
        "print(\"These are the layer variables: {}\".format(l0.get_weights()))"
      ],
      "execution_count": 11,
      "outputs": [
        {
          "output_type": "stream",
          "text": [
            "These are the layer variables: [array([[1.8205075]], dtype=float32), array([29.287056], dtype=float32)]\n"
          ],
          "name": "stdout"
        }
      ]
    },
    {
      "cell_type": "code",
      "metadata": {
        "colab": {
          "base_uri": "https://localhost:8080/"
        },
        "id": "cwkM2kdoG2zz",
        "outputId": "8eca256d-4500-4a36-fbaa-01e58b920044"
      },
      "source": [
        "l0 = tf.keras.layers.Dense(units=4,input_shape=[1])\n",
        "l1 = tf.keras.layers.Dense(units=4)\n",
        "l2 = tf.keras.layers.Dense(units=1)\n",
        "\n",
        "model = tf.keras.Sequential([l0,l1,l2])\n",
        "model.compile(loss='mean_squared_error', optimizer=tf.keras.optimizers.Adam(0.1))\n",
        "model.fit(celsius_q,fahrenheit_a,epochs=500,verbose=False)\n",
        "print(\"Finished training the model\")\n",
        "print(\"Model predicts that 100 deg C is: {} \".format(model.predict([100.0])))\n",
        "print(\"These are the layer l0 variables: {}\".format(l0.get_weights()))\n",
        "print(\"These are the layer l1 variables: {}\".format(l1.get_weights()))\n",
        "print(\"These are the layer l2 variables: {}\".format(l2.get_weights()))"
      ],
      "execution_count": 13,
      "outputs": [
        {
          "output_type": "stream",
          "text": [
            "Finished training the model\n",
            "Model predicts that 100 deg C is: [[211.7474]] \n",
            "These are the layer l0 variables: [array([[-0.6446891 , -0.26176655, -0.38085318, -0.59911865]],\n",
            "      dtype=float32), array([-4.1599984,  3.6065102, -2.172494 , -4.154174 ], dtype=float32)]\n",
            "These are the layer l1 variables: [array([[-0.09636575, -1.0286559 , -0.73178357,  0.5225139 ],\n",
            "       [-0.2905953 , -0.11420694,  1.1818036 , -0.15152715],\n",
            "       [-0.78324485,  0.72409153, -0.11795253, -1.5432999 ],\n",
            "       [ 0.58081865, -0.70267165, -1.0762924 , -0.1003651 ]],\n",
            "      dtype=float32), array([2.4915829, 4.159898 , 4.145369 , 2.4544613], dtype=float32)]\n",
            "These are the layer l2 variables: [array([[0.20930953],\n",
            "       [0.7407544 ],\n",
            "       [1.2214036 ],\n",
            "       [0.33541226]], dtype=float32), array([3.8355777], dtype=float32)]\n"
          ],
          "name": "stdout"
        }
      ]
    }
  ]
}